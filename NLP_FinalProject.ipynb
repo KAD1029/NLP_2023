{
 "cells": [
  {
   "cell_type": "markdown",
   "id": "26bdadeb",
   "metadata": {
    "cellId": "me9czo77sbgycsplvc055h",
    "execution_id": "6b8c2066-7070-45d4-ad05-84208f894826"
   },
   "source": [
    "# Устанавливаем необходимые пакеты"
   ]
  },
  {
   "cell_type": "code",
   "execution_count": 10,
   "id": "a0da7cba",
   "metadata": {
    "cellId": "9hpysfgadq8abku3g0uag",
    "collapsed": true,
    "jupyter": {
     "outputs_hidden": true
    }
   },
   "outputs": [
    {
     "name": "stdout",
     "output_type": "stream",
     "text": [
      "Defaulting to user installation because normal site-packages is not writeable\n",
      "Requirement already satisfied: datasets in /home/jupyter/.local/lib/python3.10/site-packages (2.15.0)\n",
      "Requirement already satisfied: numpy>=1.17 in /usr/local/lib/python3.10/dist-packages (from datasets) (1.22.4)\n",
      "Requirement already satisfied: pyarrow>=8.0.0 in /usr/local/lib/python3.10/dist-packages (from datasets) (9.0.0)\n",
      "Requirement already satisfied: pyarrow-hotfix in /home/jupyter/.local/lib/python3.10/site-packages (from datasets) (0.6)\n",
      "Requirement already satisfied: dill<0.3.8,>=0.3.0 in /home/jupyter/.local/lib/python3.10/site-packages (from datasets) (0.3.7)\n",
      "Requirement already satisfied: pandas in /usr/local/lib/python3.10/dist-packages (from datasets) (1.5.3)\n",
      "Requirement already satisfied: requests>=2.19.0 in /usr/local/lib/python3.10/dist-packages (from datasets) (2.27.1)\n",
      "Requirement already satisfied: tqdm>=4.62.1 in /usr/local/lib/python3.10/dist-packages (from datasets) (4.65.0)\n",
      "Requirement already satisfied: xxhash in /kernel/fallback/lib/python3.10/site-packages (from datasets) (2.0.0)\n",
      "Requirement already satisfied: multiprocess in /home/jupyter/.local/lib/python3.10/site-packages (from datasets) (0.70.15)\n",
      "Requirement already satisfied: fsspec[http]<=2023.10.0,>=2023.1.0 in /usr/local/lib/python3.10/dist-packages (from datasets) (2023.6.0)\n",
      "Requirement already satisfied: aiohttp in /usr/local/lib/python3.10/dist-packages (from datasets) (3.8.5)\n",
      "Requirement already satisfied: huggingface-hub>=0.18.0 in /home/jupyter/.local/lib/python3.10/site-packages (from datasets) (0.19.4)\n",
      "Requirement already satisfied: packaging in /kernel/lib/python3.10/site-packages (from datasets) (23.2)\n",
      "Requirement already satisfied: pyyaml>=5.1 in /usr/local/lib/python3.10/dist-packages (from datasets) (6.0.1)\n",
      "Requirement already satisfied: attrs>=17.3.0 in /kernel/lib/python3.10/site-packages (from aiohttp->datasets) (23.1.0)\n",
      "Requirement already satisfied: charset-normalizer<4.0,>=2.0 in /kernel/lib/python3.10/site-packages (from aiohttp->datasets) (3.3.2)\n",
      "Requirement already satisfied: multidict<7.0,>=4.5 in /usr/local/lib/python3.10/dist-packages (from aiohttp->datasets) (6.0.4)\n",
      "Requirement already satisfied: async-timeout<5.0,>=4.0.0a3 in /usr/local/lib/python3.10/dist-packages (from aiohttp->datasets) (4.0.2)\n",
      "Requirement already satisfied: yarl<2.0,>=1.0 in /usr/local/lib/python3.10/dist-packages (from aiohttp->datasets) (1.9.2)\n",
      "Requirement already satisfied: frozenlist>=1.1.1 in /usr/local/lib/python3.10/dist-packages (from aiohttp->datasets) (1.4.0)\n",
      "Requirement already satisfied: aiosignal>=1.1.2 in /usr/local/lib/python3.10/dist-packages (from aiohttp->datasets) (1.3.1)\n",
      "Requirement already satisfied: filelock in /usr/local/lib/python3.10/dist-packages (from huggingface-hub>=0.18.0->datasets) (3.12.2)\n",
      "Requirement already satisfied: typing-extensions>=3.7.4.3 in /kernel/lib/python3.10/site-packages (from huggingface-hub>=0.18.0->datasets) (4.8.0)\n",
      "Requirement already satisfied: urllib3<1.27,>=1.21.1 in /usr/local/lib/python3.10/dist-packages (from requests>=2.19.0->datasets) (1.26.16)\n",
      "Requirement already satisfied: certifi>=2017.4.17 in /kernel/lib/python3.10/site-packages (from requests>=2.19.0->datasets) (2023.11.17)\n",
      "Collecting charset-normalizer<4.0,>=2.0 (from aiohttp->datasets)\n",
      "  Downloading charset_normalizer-2.0.12-py3-none-any.whl (39 kB)\n",
      "Requirement already satisfied: idna<4,>=2.5 in /kernel/lib/python3.10/site-packages (from requests>=2.19.0->datasets) (3.6)\n",
      "Requirement already satisfied: python-dateutil>=2.8.1 in /kernel/lib/python3.10/site-packages (from pandas->datasets) (2.8.2)\n",
      "Requirement already satisfied: pytz>=2020.1 in /usr/local/lib/python3.10/dist-packages (from pandas->datasets) (2022.7.1)\n",
      "Requirement already satisfied: six>=1.5 in /kernel/lib/python3.10/site-packages (from python-dateutil>=2.8.1->pandas->datasets) (1.16.0)\n",
      "Installing collected packages: charset-normalizer\n",
      "\u001b[33m  WARNING: The script normalizer is installed in '/home/jupyter/.local/bin' which is not on PATH.\n",
      "  Consider adding this directory to PATH or, if you prefer to suppress this warning, use --no-warn-script-location.\u001b[0m\u001b[33m\n",
      "\u001b[0mSuccessfully installed charset-normalizer-2.0.12\n",
      "\n",
      "\u001b[1m[\u001b[0m\u001b[34;49mnotice\u001b[0m\u001b[1;39;49m]\u001b[0m\u001b[39;49m A new release of pip is available: \u001b[0m\u001b[31;49m23.2.1\u001b[0m\u001b[39;49m -> \u001b[0m\u001b[32;49m23.3.1\u001b[0m\n",
      "\u001b[1m[\u001b[0m\u001b[34;49mnotice\u001b[0m\u001b[1;39;49m]\u001b[0m\u001b[39;49m To update, run: \u001b[0m\u001b[32;49mpython3 -m pip install --upgrade pip\u001b[0m\n",
      "Defaulting to user installation because normal site-packages is not writeable\n",
      "Requirement already satisfied: fasttext in /home/jupyter/.local/lib/python3.10/site-packages (0.9.2)\n",
      "Requirement already satisfied: pybind11>=2.2 in /home/jupyter/.local/lib/python3.10/site-packages (from fasttext) (2.11.1)\n",
      "Requirement already satisfied: setuptools>=0.7.0 in /kernel/lib/python3.10/site-packages (from fasttext) (51.0.0)\n",
      "Requirement already satisfied: numpy in /usr/local/lib/python3.10/dist-packages (from fasttext) (1.22.4)\n",
      "\n",
      "\u001b[1m[\u001b[0m\u001b[34;49mnotice\u001b[0m\u001b[1;39;49m]\u001b[0m\u001b[39;49m A new release of pip is available: \u001b[0m\u001b[31;49m23.2.1\u001b[0m\u001b[39;49m -> \u001b[0m\u001b[32;49m23.3.1\u001b[0m\n",
      "\u001b[1m[\u001b[0m\u001b[34;49mnotice\u001b[0m\u001b[1;39;49m]\u001b[0m\u001b[39;49m To update, run: \u001b[0m\u001b[32;49mpython3 -m pip install --upgrade pip\u001b[0m\n",
      "Defaulting to user installation because normal site-packages is not writeable\n",
      "Collecting awscli\n",
      "  Obtaining dependency information for awscli from https://files.pythonhosted.org/packages/6a/ae/51115587339c89db62f416e2319fb0c1eaff24f9c2a5a448280a733032d7/awscli-1.31.11-py3-none-any.whl.metadata\n",
      "  Downloading awscli-1.31.11-py3-none-any.whl.metadata (11 kB)\n",
      "Collecting botocore==1.33.11 (from awscli)\n",
      "  Obtaining dependency information for botocore==1.33.11 from https://files.pythonhosted.org/packages/62/c1/d34344cffdf2dd37b4a4173ed93e38d907683a8b3fb04a61bae6539a4466/botocore-1.33.11-py3-none-any.whl.metadata\n",
      "  Downloading botocore-1.33.11-py3-none-any.whl.metadata (6.1 kB)\n",
      "Collecting docutils<0.17,>=0.10 (from awscli)\n",
      "  Downloading docutils-0.16-py2.py3-none-any.whl (548 kB)\n",
      "\u001b[2K     \u001b[90m━━━━━━━━━━━━━━━━━━━━━━━━━━━━━━━━━━━━━━━\u001b[0m \u001b[32m548.2/548.2 kB\u001b[0m \u001b[31m3.8 MB/s\u001b[0m eta \u001b[36m0:00:00\u001b[0m\n",
      "\u001b[?25hCollecting s3transfer<0.9.0,>=0.8.0 (from awscli)\n",
      "  Obtaining dependency information for s3transfer<0.9.0,>=0.8.0 from https://files.pythonhosted.org/packages/75/ca/5399536cbd5889ca4532d4b8bbcd17efa0fe0be0da04e143667a4ff5644e/s3transfer-0.8.2-py3-none-any.whl.metadata\n",
      "  Downloading s3transfer-0.8.2-py3-none-any.whl.metadata (1.8 kB)\n",
      "Requirement already satisfied: PyYAML<6.1,>=3.10 in /usr/local/lib/python3.10/dist-packages (from awscli) (6.0.1)\n",
      "Collecting colorama<0.4.5,>=0.2.5 (from awscli)\n",
      "  Downloading colorama-0.4.4-py2.py3-none-any.whl (16 kB)\n",
      "Collecting rsa<4.8,>=3.1.2 (from awscli)\n",
      "  Downloading rsa-4.7.2-py3-none-any.whl (34 kB)\n",
      "Requirement already satisfied: jmespath<2.0.0,>=0.7.1 in /usr/local/lib/python3.10/dist-packages (from botocore==1.33.11->awscli) (0.10.0)\n",
      "Requirement already satisfied: python-dateutil<3.0.0,>=2.1 in /kernel/lib/python3.10/site-packages (from botocore==1.33.11->awscli) (2.8.2)\n",
      "Requirement already satisfied: urllib3<2.1,>=1.25.4 in /usr/local/lib/python3.10/dist-packages (from botocore==1.33.11->awscli) (1.26.16)\n",
      "Requirement already satisfied: pyasn1>=0.1.3 in /usr/local/lib/python3.10/dist-packages (from rsa<4.8,>=3.1.2->awscli) (0.5.0)\n",
      "Requirement already satisfied: six>=1.5 in /kernel/lib/python3.10/site-packages (from python-dateutil<3.0.0,>=2.1->botocore==1.33.11->awscli) (1.16.0)\n",
      "Downloading awscli-1.31.11-py3-none-any.whl (4.3 MB)\n",
      "\u001b[2K   \u001b[90m━━━━━━━━━━━━━━━━━━━━━━━━━━━━━━━━━━━━━━━━\u001b[0m \u001b[32m4.3/4.3 MB\u001b[0m \u001b[31m32.0 MB/s\u001b[0m eta \u001b[36m0:00:00\u001b[0m\n",
      "\u001b[?25hDownloading botocore-1.33.11-py3-none-any.whl (11.8 MB)\n",
      "\u001b[2K   \u001b[90m━━━━━━━━━━━━━━━━━━━━━━━━━━━━━━━━━━━━━━━━\u001b[0m \u001b[32m11.8/11.8 MB\u001b[0m \u001b[31m56.6 MB/s\u001b[0m eta \u001b[36m0:00:00\u001b[0m\n",
      "\u001b[?25hDownloading s3transfer-0.8.2-py3-none-any.whl (82 kB)\n",
      "\u001b[2K   \u001b[90m━━━━━━━━━━━━━━━━━━━━━━━━━━━━━━━━━━━━━━━━\u001b[0m \u001b[32m82.0/82.0 kB\u001b[0m \u001b[31m20.0 MB/s\u001b[0m eta \u001b[36m0:00:00\u001b[0m\n",
      "\u001b[?25hInstalling collected packages: rsa, docutils, colorama, botocore, s3transfer, awscli\n",
      "\u001b[33m  WARNING: The scripts pyrsa-decrypt, pyrsa-encrypt, pyrsa-keygen, pyrsa-priv2pub, pyrsa-sign and pyrsa-verify are installed in '/home/jupyter/.local/bin' which is not on PATH.\n",
      "  Consider adding this directory to PATH or, if you prefer to suppress this warning, use --no-warn-script-location.\u001b[0m\u001b[33m\n",
      "\u001b[0m\u001b[31mERROR: pip's dependency resolver does not currently take into account all the packages that are installed. This behaviour is the source of the following dependency conflicts.\n",
      "aiobotocore 2.1.2 requires botocore<1.23.25,>=1.23.24, but you have botocore 1.33.11 which is incompatible.\n",
      "boto3 1.20.24 requires botocore<1.24.0,>=1.23.24, but you have botocore 1.33.11 which is incompatible.\n",
      "boto3 1.20.24 requires s3transfer<0.6.0,>=0.5.0, but you have s3transfer 0.8.2 which is incompatible.\n",
      "dvc 2.58.2 requires platformdirs<4,>=3.1.1, but you have platformdirs 4.0.0 which is incompatible.\n",
      "dvc 2.58.2 requires psutil>=5.8, but you have psutil 5.7.3 which is incompatible.\u001b[0m\u001b[31m\n",
      "\u001b[0mSuccessfully installed awscli-1.31.11 botocore-1.33.11 colorama-0.4.4 docutils-0.16 rsa-4.7.2 s3transfer-0.8.2\n",
      "\n",
      "\u001b[1m[\u001b[0m\u001b[34;49mnotice\u001b[0m\u001b[1;39;49m]\u001b[0m\u001b[39;49m A new release of pip is available: \u001b[0m\u001b[31;49m23.2.1\u001b[0m\u001b[39;49m -> \u001b[0m\u001b[32;49m23.3.1\u001b[0m\n",
      "\u001b[1m[\u001b[0m\u001b[34;49mnotice\u001b[0m\u001b[1;39;49m]\u001b[0m\u001b[39;49m To update, run: \u001b[0m\u001b[32;49mpython3 -m pip install --upgrade pip\u001b[0m\n",
      "Defaulting to user installation because normal site-packages is not writeable\n",
      "Requirement already satisfied: boto3 in /usr/local/lib/python3.10/dist-packages (1.20.24)\n",
      "Collecting boto3\n",
      "  Obtaining dependency information for boto3 from https://files.pythonhosted.org/packages/35/61/7483b9fd09ba025be2f340a4b778b895bef8513fb3ea359af136c68016e3/boto3-1.33.11-py3-none-any.whl.metadata\n",
      "  Downloading boto3-1.33.11-py3-none-any.whl.metadata (6.7 kB)\n",
      "Requirement already satisfied: botocore<1.34.0,>=1.33.11 in /home/jupyter/.local/lib/python3.10/site-packages (from boto3) (1.33.11)\n",
      "Requirement already satisfied: jmespath<2.0.0,>=0.7.1 in /usr/local/lib/python3.10/dist-packages (from boto3) (0.10.0)\n",
      "Requirement already satisfied: s3transfer<0.9.0,>=0.8.2 in /home/jupyter/.local/lib/python3.10/site-packages (from boto3) (0.8.2)\n",
      "Requirement already satisfied: python-dateutil<3.0.0,>=2.1 in /kernel/lib/python3.10/site-packages (from botocore<1.34.0,>=1.33.11->boto3) (2.8.2)\n",
      "Requirement already satisfied: urllib3<2.1,>=1.25.4 in /usr/local/lib/python3.10/dist-packages (from botocore<1.34.0,>=1.33.11->boto3) (1.26.16)\n",
      "Requirement already satisfied: six>=1.5 in /kernel/lib/python3.10/site-packages (from python-dateutil<3.0.0,>=2.1->botocore<1.34.0,>=1.33.11->boto3) (1.16.0)\n",
      "Downloading boto3-1.33.11-py3-none-any.whl (139 kB)\n",
      "\u001b[2K   \u001b[90m━━━━━━━━━━━━━━━━━━━━━━━━━━━━━━━━━━━━━━━━\u001b[0m \u001b[32m139.3/139.3 kB\u001b[0m \u001b[31m1.5 MB/s\u001b[0m eta \u001b[36m0:00:00\u001b[0m\n",
      "\u001b[?25hInstalling collected packages: boto3\n",
      "\u001b[31mERROR: pip's dependency resolver does not currently take into account all the packages that are installed. This behaviour is the source of the following dependency conflicts.\n",
      "cloud-ml 0.0.1 requires boto3<=1.20.24,>=1.12.31, but you have boto3 1.33.11 which is incompatible.\u001b[0m\u001b[31m\n",
      "\u001b[0mSuccessfully installed boto3-1.33.11\n",
      "\n",
      "\u001b[1m[\u001b[0m\u001b[34;49mnotice\u001b[0m\u001b[1;39;49m]\u001b[0m\u001b[39;49m A new release of pip is available: \u001b[0m\u001b[31;49m23.2.1\u001b[0m\u001b[39;49m -> \u001b[0m\u001b[32;49m23.3.1\u001b[0m\n",
      "\u001b[1m[\u001b[0m\u001b[34;49mnotice\u001b[0m\u001b[1;39;49m]\u001b[0m\u001b[39;49m To update, run: \u001b[0m\u001b[32;49mpython3 -m pip install --upgrade pip\u001b[0m\n",
      "Defaulting to user installation because normal site-packages is not writeable\n",
      "Collecting git+https://github.com/dask/s3fs\n",
      "  Cloning https://github.com/dask/s3fs to /tmp/pip-req-build-1xb51bui\n",
      "  Running command git clone --filter=blob:none --quiet https://github.com/dask/s3fs /tmp/pip-req-build-1xb51bui\n",
      "  Resolved https://github.com/dask/s3fs to commit ad6ac07bbca40f062d04dd9f42b5f138f433030b\n",
      "  Preparing metadata (setup.py) ... \u001b[?25ldone\n",
      "\u001b[?25hCollecting aiobotocore<3.0.0,>=2.5.4 (from s3fs==2023.12.1)\n",
      "  Obtaining dependency information for aiobotocore<3.0.0,>=2.5.4 from https://files.pythonhosted.org/packages/f9/5e/ca5fd1c417f6a1c8cde8519611d82faedb368d7e3684e3a6069c95721bdf/aiobotocore-2.8.0-py3-none-any.whl.metadata\n",
      "  Downloading aiobotocore-2.8.0-py3-none-any.whl.metadata (20 kB)\n",
      "Collecting fsspec==2023.12.1 (from s3fs==2023.12.1)\n",
      "  Obtaining dependency information for fsspec==2023.12.1 from https://files.pythonhosted.org/packages/96/0e/2be9b5a2e3f736577e749bbdf27a1e7e965041e1c908d49dedf56eeb2b8a/fsspec-2023.12.1-py3-none-any.whl.metadata\n",
      "  Downloading fsspec-2023.12.1-py3-none-any.whl.metadata (6.8 kB)\n",
      "Requirement already satisfied: aiohttp!=4.0.0a0,!=4.0.0a1 in /usr/local/lib/python3.10/dist-packages (from s3fs==2023.12.1) (3.8.5)\n",
      "Collecting botocore<1.33.2,>=1.32.4 (from aiobotocore<3.0.0,>=2.5.4->s3fs==2023.12.1)\n",
      "  Obtaining dependency information for botocore<1.33.2,>=1.32.4 from https://files.pythonhosted.org/packages/19/d2/9e0a21b8688f1ff1a27c7d806908fe324adba280c0f01c43cc80cc1a1c7e/botocore-1.33.1-py3-none-any.whl.metadata\n",
      "  Downloading botocore-1.33.1-py3-none-any.whl.metadata (6.1 kB)\n",
      "Requirement already satisfied: wrapt<2.0.0,>=1.10.10 in /kernel/lib/python3.10/site-packages (from aiobotocore<3.0.0,>=2.5.4->s3fs==2023.12.1) (1.14.1)\n",
      "Requirement already satisfied: aioitertools<1.0.0,>=0.5.1 in /usr/local/lib/python3.10/dist-packages (from aiobotocore<3.0.0,>=2.5.4->s3fs==2023.12.1) (0.11.0)\n",
      "Requirement already satisfied: attrs>=17.3.0 in /kernel/lib/python3.10/site-packages (from aiohttp!=4.0.0a0,!=4.0.0a1->s3fs==2023.12.1) (23.1.0)\n",
      "Requirement already satisfied: charset-normalizer<4.0,>=2.0 in /kernel/lib/python3.10/site-packages (from aiohttp!=4.0.0a0,!=4.0.0a1->s3fs==2023.12.1) (3.3.2)\n",
      "Requirement already satisfied: multidict<7.0,>=4.5 in /usr/local/lib/python3.10/dist-packages (from aiohttp!=4.0.0a0,!=4.0.0a1->s3fs==2023.12.1) (6.0.4)\n",
      "Requirement already satisfied: async-timeout<5.0,>=4.0.0a3 in /usr/local/lib/python3.10/dist-packages (from aiohttp!=4.0.0a0,!=4.0.0a1->s3fs==2023.12.1) (4.0.2)\n",
      "Requirement already satisfied: yarl<2.0,>=1.0 in /usr/local/lib/python3.10/dist-packages (from aiohttp!=4.0.0a0,!=4.0.0a1->s3fs==2023.12.1) (1.9.2)\n",
      "Requirement already satisfied: frozenlist>=1.1.1 in /usr/local/lib/python3.10/dist-packages (from aiohttp!=4.0.0a0,!=4.0.0a1->s3fs==2023.12.1) (1.4.0)\n",
      "Requirement already satisfied: aiosignal>=1.1.2 in /usr/local/lib/python3.10/dist-packages (from aiohttp!=4.0.0a0,!=4.0.0a1->s3fs==2023.12.1) (1.3.1)\n",
      "Requirement already satisfied: jmespath<2.0.0,>=0.7.1 in /usr/local/lib/python3.10/dist-packages (from botocore<1.33.2,>=1.32.4->aiobotocore<3.0.0,>=2.5.4->s3fs==2023.12.1) (0.10.0)\n",
      "Requirement already satisfied: python-dateutil<3.0.0,>=2.1 in /kernel/lib/python3.10/site-packages (from botocore<1.33.2,>=1.32.4->aiobotocore<3.0.0,>=2.5.4->s3fs==2023.12.1) (2.8.2)\n",
      "Requirement already satisfied: urllib3<2.1,>=1.25.4 in /usr/local/lib/python3.10/dist-packages (from botocore<1.33.2,>=1.32.4->aiobotocore<3.0.0,>=2.5.4->s3fs==2023.12.1) (1.26.16)\n",
      "Requirement already satisfied: idna>=2.0 in /kernel/lib/python3.10/site-packages (from yarl<2.0,>=1.0->aiohttp!=4.0.0a0,!=4.0.0a1->s3fs==2023.12.1) (3.6)\n",
      "Requirement already satisfied: six>=1.5 in /kernel/lib/python3.10/site-packages (from python-dateutil<3.0.0,>=2.1->botocore<1.33.2,>=1.32.4->aiobotocore<3.0.0,>=2.5.4->s3fs==2023.12.1) (1.16.0)\n",
      "Downloading fsspec-2023.12.1-py3-none-any.whl (168 kB)\n",
      "\u001b[2K   \u001b[90m━━━━━━━━━━━━━━━━━━━━━━━━━━━━━━━━━━━━━━━━\u001b[0m \u001b[32m168.9/168.9 kB\u001b[0m \u001b[31m1.8 MB/s\u001b[0m eta \u001b[36m0:00:00\u001b[0m\n",
      "\u001b[?25hDownloading aiobotocore-2.8.0-py3-none-any.whl (75 kB)\n",
      "\u001b[2K   \u001b[90m━━━━━━━━━━━━━━━━━━━━━━━━━━━━━━━━━━━━━━━━\u001b[0m \u001b[32m75.0/75.0 kB\u001b[0m \u001b[31m3.3 MB/s\u001b[0m eta \u001b[36m0:00:00\u001b[0m\n",
      "\u001b[?25hDownloading botocore-1.33.1-py3-none-any.whl (11.6 MB)\n",
      "\u001b[2K   \u001b[90m━━━━━━━━━━━━━━━━━━━━━━━━━━━━━━━━━━━━━━━━\u001b[0m \u001b[32m11.6/11.6 MB\u001b[0m \u001b[31m49.2 MB/s\u001b[0m eta \u001b[36m0:00:00\u001b[0m\n",
      "\u001b[?25hBuilding wheels for collected packages: s3fs\n",
      "  Building wheel for s3fs (setup.py) ... \u001b[?25ldone\n",
      "\u001b[?25h  Created wheel for s3fs: filename=s3fs-2023.12.1-py3-none-any.whl size=28881 sha256=f7ff62564fc14b9fd4ae96dbebe13b8b904a402d101983cbd81f4290a677f532\n",
      "  Stored in directory: /tmp/pip-ephem-wheel-cache-66rd85fv/wheels/1c/2c/ca/bd47ad7042338ff00f37a24b19e98e1374da8e22b72baf14a6\n",
      "Successfully built s3fs\n",
      "Installing collected packages: fsspec, botocore, aiobotocore, s3fs\n",
      "  Attempting uninstall: botocore\n",
      "    Found existing installation: botocore 1.33.11\n",
      "    Uninstalling botocore-1.33.11:\n",
      "      Successfully uninstalled botocore-1.33.11\n",
      "\u001b[31mERROR: pip's dependency resolver does not currently take into account all the packages that are installed. This behaviour is the source of the following dependency conflicts.\n",
      "awscli 1.31.11 requires botocore==1.33.11, but you have botocore 1.33.1 which is incompatible.\n",
      "boto3 1.33.11 requires botocore<1.34.0,>=1.33.11, but you have botocore 1.33.1 which is incompatible.\n",
      "datasets 2.15.0 requires fsspec[http]<=2023.10.0,>=2023.1.0, but you have fsspec 2023.12.1 which is incompatible.\n",
      "s3transfer 0.8.2 requires botocore<2.0a.0,>=1.33.2, but you have botocore 1.33.1 which is incompatible.\n",
      "cloud-ml 0.0.1 requires boto3<=1.20.24,>=1.12.31, but you have boto3 1.33.11 which is incompatible.\n",
      "cloud-ml 0.0.1 requires s3fs<=0.5.2,>=0.4.1, but you have s3fs 2023.12.1 which is incompatible.\n",
      "gcsfs 2023.6.0 requires fsspec==2023.6.0, but you have fsspec 2023.12.1 which is incompatible.\u001b[0m\u001b[31m\n",
      "\u001b[0mSuccessfully installed aiobotocore-2.8.0 botocore-1.33.1 fsspec-2023.12.1 s3fs-2023.12.1\n",
      "\n",
      "\u001b[1m[\u001b[0m\u001b[34;49mnotice\u001b[0m\u001b[1;39;49m]\u001b[0m\u001b[39;49m A new release of pip is available: \u001b[0m\u001b[31;49m23.2.1\u001b[0m\u001b[39;49m -> \u001b[0m\u001b[32;49m23.3.1\u001b[0m\n",
      "\u001b[1m[\u001b[0m\u001b[34;49mnotice\u001b[0m\u001b[1;39;49m]\u001b[0m\u001b[39;49m To update, run: \u001b[0m\u001b[32;49mpython3 -m pip install --upgrade pip\u001b[0m\n"
     ]
    }
   ],
   "source": [
    "%pip install datasets\n",
    "%pip install fasttext\n",
    "%pip install --upgrade awscli\n",
    "%pip install --upgrade boto3\n",
    "%pip install --upgrade git+https://github.com/dask/s3fs"
   ]
  },
  {
   "cell_type": "code",
   "execution_count": 36,
   "id": "11d22d4d",
   "metadata": {
    "cellId": "jkjrsum3byomq29u0pwv"
   },
   "outputs": [],
   "source": [
    "from datasets import load_dataset\n",
    "import matplotlib.pyplot as plt\n",
    "import numpy as np\n",
    "from sklearn.ensemble import RandomForestClassifier\n",
    "import fasttext\n",
    "import fasttext.util\n",
    "from tqdm import trange\n",
    "import torch\n",
    "from torch.utils.data import DataLoader"
   ]
  },
  {
   "cell_type": "markdown",
   "id": "b36650ea",
   "metadata": {
    "cellId": "tu5ngr84kanvvlsd09j2c",
    "execution_id": "3bd50087-66ab-49ec-a92b-6a44038c82be"
   },
   "source": [
    "# Скачиваем датасет"
   ]
  },
  {
   "cell_type": "code",
   "execution_count": 73,
   "id": "cf993dc0",
   "metadata": {
    "cellId": "2mb6gjv60iyw2wxu3mt7jo"
   },
   "outputs": [
    {
     "data": {
      "application/vnd.jupyter.widget-view+json": {
       "model_id": "480f235ef90f437a80612ece21de19f4",
       "version_major": 2,
       "version_minor": 0
      },
      "text/plain": [
       "Downloading readme:   0%|          | 0.00/515 [00:00<?, ?B/s]"
      ]
     },
     "metadata": {},
     "output_type": "display_data"
    },
    {
     "data": {
      "application/vnd.jupyter.widget-view+json": {
       "model_id": "4f74920bbf6b4a15a2eeabef492861fc",
       "version_major": 2,
       "version_minor": 0
      },
      "text/plain": [
       "Downloading data files:   0%|          | 0/3 [00:00<?, ?it/s]"
      ]
     },
     "metadata": {},
     "output_type": "display_data"
    },
    {
     "data": {
      "application/vnd.jupyter.widget-view+json": {
       "model_id": "f0f207aabd534c49b73fb367fcdc9784",
       "version_major": 2,
       "version_minor": 0
      },
      "text/plain": [
       "Downloading data:   0%|          | 0.00/499k [00:00<?, ?B/s]"
      ]
     },
     "metadata": {},
     "output_type": "display_data"
    },
    {
     "data": {
      "application/vnd.jupyter.widget-view+json": {
       "model_id": "9eee376ee57b4c6dadca36c38ce0b5bc",
       "version_major": 2,
       "version_minor": 0
      },
      "text/plain": [
       "Downloading data:   0%|          | 0.00/116k [00:00<?, ?B/s]"
      ]
     },
     "metadata": {},
     "output_type": "display_data"
    },
    {
     "data": {
      "application/vnd.jupyter.widget-view+json": {
       "model_id": "364ae3a07e5b4e12bdb9b74702019430",
       "version_major": 2,
       "version_minor": 0
      },
      "text/plain": [
       "Downloading data:   0%|          | 0.00/110k [00:00<?, ?B/s]"
      ]
     },
     "metadata": {},
     "output_type": "display_data"
    },
    {
     "data": {
      "application/vnd.jupyter.widget-view+json": {
       "model_id": "bec00ee1ec744e0d88815eb51af9ca64",
       "version_major": 2,
       "version_minor": 0
      },
      "text/plain": [
       "Extracting data files:   0%|          | 0/3 [00:00<?, ?it/s]"
      ]
     },
     "metadata": {},
     "output_type": "display_data"
    },
    {
     "data": {
      "application/vnd.jupyter.widget-view+json": {
       "model_id": "07d6cdc009f74d06a02399ce154e9016",
       "version_major": 2,
       "version_minor": 0
      },
      "text/plain": [
       "Generating train split:   0%|          | 0/2508 [00:00<?, ? examples/s]"
      ]
     },
     "metadata": {},
     "output_type": "display_data"
    },
    {
     "data": {
      "application/vnd.jupyter.widget-view+json": {
       "model_id": "dae4ea21cb9d4500b633b5888653ca74",
       "version_major": 2,
       "version_minor": 0
      },
      "text/plain": [
       "Generating test split:   0%|          | 0/512 [00:00<?, ? examples/s]"
      ]
     },
     "metadata": {},
     "output_type": "display_data"
    },
    {
     "data": {
      "application/vnd.jupyter.widget-view+json": {
       "model_id": "b24abcc1e4fb4041ad33f0f945c676e2",
       "version_major": 2,
       "version_minor": 0
      },
      "text/plain": [
       "Generating dev split:   0%|          | 0/536 [00:00<?, ? examples/s]"
      ]
     },
     "metadata": {},
     "output_type": "display_data"
    }
   ],
   "source": [
    "dataset = load_dataset(\"graviada/russian-ner-runne\")"
   ]
  },
  {
   "cell_type": "markdown",
   "id": "709fd441",
   "metadata": {
    "cellId": "1er1u19emx2v0dvvq2eacm",
    "execution_id": "e9640b87-6a7c-4bc3-be21-2c6cbd695f39"
   },
   "source": [
    "Датасет состоит из множества предложений. Каждому слову в предложении сопоставлен класс, которому это слово принадлежит.\n",
    "\n",
    "Задача - научиться классифицировать тип слова."
   ]
  },
  {
   "cell_type": "code",
   "execution_count": 74,
   "id": "13bedaae",
   "metadata": {
    "cellId": "ezc9cytpyimy90x7roxgqn"
   },
   "outputs": [
    {
     "data": {
      "text/plain": [
       "DatasetDict({\n",
       "    train: Dataset({\n",
       "        features: ['tokens', 'tags'],\n",
       "        num_rows: 2508\n",
       "    })\n",
       "    test: Dataset({\n",
       "        features: ['tokens', 'tags'],\n",
       "        num_rows: 512\n",
       "    })\n",
       "    dev: Dataset({\n",
       "        features: ['tokens', 'tags'],\n",
       "        num_rows: 536\n",
       "    })\n",
       "})"
      ]
     },
     "execution_count": 74,
     "metadata": {},
     "output_type": "execute_result"
    }
   ],
   "source": [
    "dataset"
   ]
  },
  {
   "cell_type": "markdown",
   "id": "b7404cca",
   "metadata": {
    "cellId": "m2bqrlw2izmd9uf5fdd0o",
    "execution_id": "c22192e6-c921-4b75-b868-7d023ece45c6"
   },
   "source": [
    "# Использование fasttext"
   ]
  },
  {
   "cell_type": "markdown",
   "id": "25d64bb3",
   "metadata": {
    "cellId": "h1vspooz4b97jxcyy4pw8n",
    "execution_id": "ff78110a-e0d7-4574-8963-c84c4399a73f"
   },
   "source": [
    "Будем обучать fasttext, а не использовать предобученный, так как обученная модель весит очень много"
   ]
  },
  {
   "cell_type": "code",
   "execution_count": 14,
   "id": "2f90a901",
   "metadata": {
    "cellId": "t0x982e77g0rbgohf3lq7"
   },
   "outputs": [],
   "source": [
    "with open('train_text.txt', 'w') as f:\n",
    "  text = ''.join([x for x in [' '.join(a) for a in dataset['train']['tokens']]])\n",
    "  f.write(text)"
   ]
  },
  {
   "cell_type": "code",
   "execution_count": 21,
   "id": "50bb3b2b",
   "metadata": {
    "cellId": "28426yzpj0m4azxmy7l63z"
   },
   "outputs": [
    {
     "name": "stderr",
     "output_type": "stream",
     "text": [
      "Read 0M words\n",
      "Number of words:  2656\n",
      "Number of labels: 0\n",
      "Progress: 100.0% words/sec/thread:   30252 lr:  0.000000 avg.loss:  2.113559 ETA:   0h 0m 0s\n"
     ]
    }
   ],
   "source": [
    "model_fasttext = fasttext.train_unsupervised(\"train_text.txt\", epoch=15, minn=2, maxn=7, dim=100)"
   ]
  },
  {
   "cell_type": "code",
   "execution_count": 16,
   "id": "8dfa3766",
   "metadata": {
    "cellId": "3e2lmsvv917m9xegrmozbb"
   },
   "outputs": [
    {
     "name": "stderr",
     "output_type": "stream",
     "text": [
      "100%|██████████| 2508/2508 [2:28:40<00:00,  3.56s/it]\n"
     ]
    }
   ],
   "source": [
    "XTrain = []\n",
    "yTrain = []\n",
    "for textIndex in trange(len(dataset['train']['tokens'])):\n",
    "  for wordIndex in range(len(dataset['train']['tokens'][textIndex])):\n",
    "    XTrain.append(model_fasttext[dataset['train']['tokens'][textIndex][wordIndex]])\n",
    "    yTrain.append(dataset['train']['tags'][textIndex][wordIndex])"
   ]
  },
  {
   "cell_type": "code",
   "execution_count": 22,
   "id": "5ea89148",
   "metadata": {
    "cellId": "7vv5fv3wbmbqta9nte70xe"
   },
   "outputs": [
    {
     "name": "stderr",
     "output_type": "stream",
     "text": [
      "100%|██████████| 512/512 [06:08<00:00,  1.39it/s]\n"
     ]
    }
   ],
   "source": [
    "XTest = []\n",
    "yTest = []\n",
    "for textIndex in trange(len(dataset['test']['tokens'])):\n",
    "  for wordIndex in range(len(dataset['test']['tokens'][textIndex])):\n",
    "    XTest.append(model_fasttext[dataset['test']['tokens'][textIndex][wordIndex]])\n",
    "    yTest.append(dataset['test']['tags'][textIndex][wordIndex])"
   ]
  },
  {
   "cell_type": "markdown",
   "id": "5cd8fc6f",
   "metadata": {
    "cellId": "sydk5o78dmre9xcn0v3dok",
    "execution_id": "07e7149e-ddb1-4142-ae48-c96e35744e0c"
   },
   "source": [
    "Посмотрим на сбаллансированность и видим, что она отсутствует. Объектов первых классов гораздо большем, чем остальных"
   ]
  },
  {
   "cell_type": "code",
   "execution_count": 80,
   "id": "6fcb726a",
   "metadata": {
    "cellId": "r99hhfbkflcfowhqskh2d"
   },
   "outputs": [
    {
     "data": {
      "image/png": "[encoded data removed]",
      "text/plain": [
       "<Figure size 432x288 with 1 Axes>"
      ]
     },
     "metadata": {
      "needs_background": "light"
     },
     "output_type": "display_data"
    }
   ],
   "source": [
    "plt.hist(yTrain)\n",
    "plt.show()"
   ]
  },
  {
   "cell_type": "markdown",
   "id": "d76c6d3e",
   "metadata": {
    "cellId": "dmparqevikv8w306bbjm0v",
    "execution_id": "3f199de7-47c4-4540-9bc9-1b019c3bbd45"
   },
   "source": [
    "# Использование ML модели"
   ]
  },
  {
   "cell_type": "code",
   "execution_count": 78,
   "id": "c011b8e0",
   "metadata": {
    "cellId": "8s61b2yqbcpqzg9hh0k94m"
   },
   "outputs": [],
   "source": [
    "models = [RandomForestClassifier(n) for n in [1, 5, 10, 50, 100, 200]]"
   ]
  },
  {
   "cell_type": "code",
   "execution_count": 82,
   "id": "d662e289",
   "metadata": {
    "cellId": "pbqcrdxn2dkk6cs3tufpc"
   },
   "outputs": [
    {
     "name": "stdout",
     "output_type": "stream",
     "text": [
      "RandomForestClassifier(n_estimators=1)\n",
      "RandomForestClassifier(n_estimators=5)\n",
      "RandomForestClassifier(n_estimators=10)\n",
      "RandomForestClassifier(n_estimators=50)\n",
      "RandomForestClassifier()\n",
      "RandomForestClassifier(n_estimators=200)\n"
     ]
    },
    {
     "data": {
      "text/plain": [
       "[0.2905263157894737,\n",
       " 0.5290469416785206,\n",
       " 0.5589758179231863,\n",
       " 0.576330014224751,\n",
       " 0.5732005689900427,\n",
       " 0.5738264580369844]"
      ]
     },
     "execution_count": 82,
     "metadata": {},
     "output_type": "execute_result"
    }
   ],
   "source": [
    "scores = []\n",
    "for model in models:\n",
    "    print(model)\n",
    "    model.fit(XTrain, yTrain)\n",
    "    scores.append(model.score(XTest, yTest))\n",
    "scores"
   ]
  },
  {
   "cell_type": "code",
   "execution_count": 84,
   "id": "71dcc5cc",
   "metadata": {
    "cellId": "gloiufilkkviarwmukwflq"
   },
   "outputs": [
    {
     "data": {
      "image/png": "[encoded data removed]",
      "text/plain": [
       "<Figure size 432x288 with 1 Axes>"
      ]
     },
     "metadata": {
      "needs_background": "light"
     },
     "output_type": "display_data"
    }
   ],
   "source": [
    "plt.plot([1, 5, 10, 50, 100, 200], scores, 'b-o')\n",
    "plt.title(\"Зависимость точности от количества деревьев\")\n",
    "plt.show()"
   ]
  },
  {
   "cell_type": "markdown",
   "id": "96729cb6",
   "metadata": {
    "cellId": "krupmuogq2mtw166fijs",
    "execution_id": "882aaa7a-1e0c-4e7f-bc45-748bcfb7fdd0"
   },
   "source": [
    "Можно заметить, что даже 50 деревьев достаточно для немлохой классификации и дальнейшее увеличение параметра не дает прироста в точности."
   ]
  },
  {
   "cell_type": "markdown",
   "id": "db12fa8c",
   "metadata": {
    "cellId": "z8n2njhsb3nwca2sjk7co",
    "execution_id": "1f0de117-6408-4c25-8d5e-9d3894c5b25e"
   },
   "source": [
    "# Обучение нейронной сети"
   ]
  },
  {
   "cell_type": "code",
   "execution_count": 51,
   "id": "01e9dd35",
   "metadata": {
    "cellId": "hm9lvnx8vjq4c4qm1lvu1w"
   },
   "outputs": [],
   "source": [
    "def get_accuracy(data_loader, model):\n",
    "    tp = 0\n",
    "    n = 0\n",
    "    with torch.no_grad():\n",
    "        for images, labels in data_loader:\n",
    "            labels = labels.to(device)\n",
    "            images = images.to(device)\n",
    "            outputs = model(images.reshape(images.shape[0], images.shape[1], -1))\n",
    "            _, predicted = torch.max(outputs.data, 1)\n",
    "            n += labels.size(0)\n",
    "            tp += (predicted == labels).sum()\n",
    "    return tp / n"
   ]
  },
  {
   "cell_type": "markdown",
   "id": "ad7cb9e0",
   "metadata": {
    "cellId": "ethcorfqkxftyqg3tany4b",
    "execution_id": "d265edb4-36d3-4414-bb58-6ab81888f9ff"
   },
   "source": [
    "Описание модели:"
   ]
  },
  {
   "cell_type": "code",
   "execution_count": 86,
   "id": "cedc641d",
   "metadata": {
    "cellId": "gzpidg7649lpg0udkkgm1"
   },
   "outputs": [],
   "source": [
    "model = torch.nn.Sequential(\n",
    "    torch.nn.Conv1d(100, 512, kernel_size=3, padding=1, stride=2),\n",
    "    torch.nn.BatchNorm1d(512),\n",
    "    torch.nn.ReLU(),\n",
    "\n",
    "    torch.nn.Conv1d(512, 1024, kernel_size=3, padding=1, stride=2),\n",
    "    torch.nn.BatchNorm1d(1024),\n",
    "    torch.nn.ReLU(),\n",
    "\n",
    "    torch.nn.Conv1d(1024, 1024, kernel_size=3, padding=1, stride=2),\n",
    "    torch.nn.BatchNorm1d(1024),\n",
    "    torch.nn.ReLU(),\n",
    "    \n",
    "    torch.nn.Conv1d(1024, 256, kernel_size=3, padding=1, stride=2),\n",
    "    torch.nn.BatchNorm1d(256),\n",
    "    torch.nn.ReLU(),\n",
    "\n",
    "    torch.nn.AdaptiveMaxPool1d(1),\n",
    "    torch.nn.Flatten(),\n",
    "    torch.nn.Linear(256, 58),\n",
    ")\n",
    "\n",
    "learning_rate = 0.01\n",
    "num_epochs = 20\n",
    "\n",
    "loss_function = torch.nn.CrossEntropyLoss()\n",
    "optimizer = torch.optim.Adam(model.parameters(), lr = learning_rate)"
   ]
  },
  {
   "cell_type": "code",
   "execution_count": 38,
   "id": "0237da43",
   "metadata": {
    "cellId": "k91ccsdpdxc08bxb9jo16d4"
   },
   "outputs": [],
   "source": [
    "train_loader = DataLoader([(XTrain[i], yTrain[i]) for i in range(len(XTrain))], shuffle=True, batch_size=50)\n",
    "test_loader = DataLoader([(XTest[i], yTest[i]) for i in range(len(XTest))], shuffle=False, batch_size=50)"
   ]
  },
  {
   "cell_type": "code",
   "execution_count": 40,
   "id": "abd6c8e7",
   "metadata": {
    "cellId": "cg4ttdxgdqkp8z4c6jhlc"
   },
   "outputs": [],
   "source": [
    "device = torch.device(\"cuda:0\" if torch.cuda.is_available() else \"cpu\")"
   ]
  },
  {
   "cell_type": "markdown",
   "id": "078c575e",
   "metadata": {
    "cellId": "rj74eqabd9i1hpybogjhq",
    "execution_id": "89474717-ebf0-4b0b-81cf-0081bb8f80d4"
   },
   "source": [
    "Процесс обучения:"
   ]
  },
  {
   "cell_type": "code",
   "execution_count": 87,
   "id": "1adafaa1",
   "metadata": {
    "cellId": "icz84guazdfib2cdavvznh"
   },
   "outputs": [
    {
     "name": "stdout",
     "output_type": "stream",
     "text": [
      "Epoch 0\n",
      "    accuracy on train data : 0.6933220028877258\n",
      "    accuracy on test data : 0.5852631330490112\n",
      "Epoch 1\n",
      "    accuracy on train data : 0.7130205035209656\n",
      "    accuracy on test data : 0.5866287350654602\n",
      "Epoch 2\n",
      "    accuracy on train data : 0.7297093868255615\n",
      "    accuracy on test data : 0.5991464853286743\n",
      "Epoch 3\n",
      "    accuracy on train data : 0.736567497253418\n",
      "    accuracy on test data : 0.5974395275115967\n",
      "Epoch 4\n",
      "    accuracy on train data : 0.7391207814216614\n",
      "    accuracy on test data : 0.5878804922103882\n",
      "Epoch 5\n",
      "    accuracy on train data : 0.752898633480072\n",
      "    accuracy on test data : 0.60068279504776\n",
      "Epoch 6\n",
      "    accuracy on train data : 0.7537251114845276\n",
      "    accuracy on test data : 0.5959601998329163\n",
      "Epoch 7\n",
      "    accuracy on train data : 0.7590537071228027\n",
      "    accuracy on test data : 0.5879374146461487\n",
      "Epoch 8\n",
      "    accuracy on train data : 0.7607435584068298\n",
      "    accuracy on test data : 0.5834993124008179\n",
      "Epoch 9\n",
      "    accuracy on train data : 0.7641109228134155\n",
      "    accuracy on test data : 0.574395477771759\n"
     ]
    }
   ],
   "source": [
    "trainScores = []\n",
    "testScores = []\n",
    "\n",
    "num_epochs = 10\n",
    "for epoch in range(num_epochs):\n",
    "    for i, (images, labels) in enumerate(train_loader):\n",
    "        optimizer.zero_grad()\n",
    "        \n",
    "        images = images.to(device)\n",
    "        labels = labels.to(device)\n",
    "        \n",
    "        outputs = model(images.reshape(images.shape[0], images.shape[1], -1))\n",
    "        loss = loss_function(outputs, labels)\n",
    "\n",
    "        loss.backward()\n",
    "        optimizer.step()\n",
    "    \n",
    "    trainScores.append(get_accuracy(train_loader, model))\n",
    "    testScores.append(get_accuracy(test_loader, model))\n",
    "    \n",
    "    print(f'Epoch {epoch}')\n",
    "    print(f'    accuracy on train data : {trainScores[-1]}')\n",
    "    print(f'    accuracy on test data : {testScores[-1]}')"
   ]
  },
  {
   "cell_type": "code",
   "execution_count": 90,
   "id": "67a149f0",
   "metadata": {
    "cellId": "buzk16s77cke5roxgjidr"
   },
   "outputs": [
    {
     "data": {
      "image/png": "[encoded data removed]",
      "text/plain": [
       "<Figure size 432x288 with 1 Axes>"
      ]
     },
     "metadata": {
      "needs_background": "light"
     },
     "output_type": "display_data"
    }
   ],
   "source": [
    "plt.plot([i for i in range(num_epochs)], trainScores, 'b-o', label=\"Train scores\")\n",
    "plt.plot([i for i in range(num_epochs)], testScores, 'r-o', label=\"Test scores\")\n",
    "plt.title(\"Значения точностей на каждой из эпох\")\n",
    "plt.legend()\n",
    "plt.show()"
   ]
  },
  {
   "cell_type": "markdown",
   "id": "d829557d",
   "metadata": {
    "cellId": "dhjy1q8ou3il4cmz7dn04",
    "execution_id": "88cfe5ab-1357-4b84-acf7-158f27f43836"
   },
   "source": [
    "# Выводы"
   ]
  },
  {
   "cell_type": "markdown",
   "id": "11b2b86e",
   "metadata": {
    "cellId": "7p2v8dtwljieb77ktnw4eq",
    "execution_id": "c4fcbe69-1391-4538-95cb-1e9429a152f0"
   },
   "source": [
    "В результате можно сделать следующие выводы:\n",
    "- Классификация возможна с неплохой точностью\n",
    "- Случайный лес при любых значениях параметра показал точность хуже, чем CNN"
   ]
  }
 ],
 "metadata": {
  "language_info": {
   "codemirror_mode": {
    "name": "ipython",
    "version": 3
   },
   "file_extension": ".py",
   "mimetype": "text/x-python",
   "name": "python",
   "nbconvert_exporter": "python",
   "pygments_lexer": "ipython3",
   "version": "3.7.7"
  },
  "notebookId": "7363bb6a-d11e-49ee-a29a-745dc3f50ca1",
  "notebookPath": "Untitled.ipynb"
 },
 "nbformat": 4,
 "nbformat_minor": 5
}
